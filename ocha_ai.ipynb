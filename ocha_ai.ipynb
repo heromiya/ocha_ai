{
  "nbformat": 4,
  "nbformat_minor": 0,
  "metadata": {
    "colab": {
      "name": "ocha_ai.ipynb",
      "provenance": [],
      "collapsed_sections": [],
      "authorship_tag": "ABX9TyPDM3cx5xwkju1CyWNP3PS6",
      "include_colab_link": true
    },
    "kernelspec": {
      "name": "python3",
      "display_name": "Python 3"
    }
  },
  "cells": [
    {
      "cell_type": "markdown",
      "metadata": {
        "id": "view-in-github",
        "colab_type": "text"
      },
      "source": [
        "<a href=\"https://colab.research.google.com/github/heromiya/ocha_ai/blob/master/ocha_ai.ipynb\" target=\"_parent\"><img src=\"https://colab.research.google.com/assets/colab-badge.svg\" alt=\"Open In Colab\"/></a>"
      ]
    },
    {
      "cell_type": "code",
      "metadata": {
        "id": "4JGtIY9yLjdm",
        "colab_type": "code",
        "colab": {}
      },
      "source": [
        "import os, shutil, tempfile, random, glob, subprocess, errno, datetime, numpy as np\n",
        "import tensorflow as tf, keras\n",
        "\n",
        "from PIL import Image\n",
        "from keras.models import Model\n",
        "from keras.layers import Conv2D, MaxPooling2D, Input, Conv2DTranspose, Concatenate, BatchNormalization, UpSampling2D\n",
        "from keras.layers import  Dropout, Activation\n",
        "from keras.optimizers import Adam, SGD\n",
        "from keras.layers.advanced_activations import LeakyReLU\n",
        "from keras.callbacks import ModelCheckpoint, ReduceLROnPlateau, EarlyStopping\n",
        "from keras import backend as K\n",
        "from keras.utils import plot_model\n",
        "from random import shuffle\n",
        "from keras.preprocessing.image import ImageDataGenerator\n",
        "from keras.utils import multi_gpu_model\n",
        "from tensorflow.python.client import device_lib\n",
        "import sys\n",
        "import pandas\n",
        "\n",
        "#pretrained_weights = sys.argv[1]\n",
        "#if pretrained_weights == 'None':\n",
        "#    pretrained_weights = None\n",
        "\n",
        "n_gpus = len([x.name for x in device_lib.list_local_devices() if x.device_type == 'GPU'])\n"
      ],
      "execution_count": null,
      "outputs": []
    },
    {
      "cell_type": "code",
      "metadata": {
        "id": "g0eaoJjYL8sp",
        "colab_type": "code",
        "colab": {}
      },
      "source": [
        "# Directoly/folder prepration\n",
        "root_folder = './'\n",
        "\n",
        "training_ann_ras = root_folder + 'ann_ras/'\n",
        "training_ann_vec = root_folder + 'ann_vec/'\n",
        "training_img = root_folder + 'img/'\n",
        "test_img = root_folder + 'test_img/'\n",
        "\n",
        "#patch_root = tempfile.mkdtemp()\n",
        "patch_root = root_folder + '/patch/'\n",
        "#os.makedirs(patch_root, exist_ok=True)\n",
        "patch_ann = patch_root + '/patch_ann/'\n",
        "patch_img = patch_root + '/patch_img/'\n",
        "patch_pred = patch_root + '/patch_pred/'\n",
        "\n",
        "model_folder = root_folder + '/model/'\n",
        "\n",
        "test_results = root_folder + '/test_results/'\n",
        "timestamp =  str(datetime.datetime.now())\n",
        "log_d = root_folder + \"logs/\" + timestamp + '/'\n",
        "os.makedirs(log_d, exist_ok=True) \n",
        "\n",
        "os.makedirs(training_ann_ras, exist_ok=True)\n",
        "os.makedirs(patch_ann, exist_ok=True)\n",
        "os.makedirs(patch_img, exist_ok=True)\n",
        "os.makedirs(model_folder, exist_ok=True)\n",
        "os.makedirs(test_results, exist_ok=True)"
      ],
      "execution_count": null,
      "outputs": []
    }
  ]
}